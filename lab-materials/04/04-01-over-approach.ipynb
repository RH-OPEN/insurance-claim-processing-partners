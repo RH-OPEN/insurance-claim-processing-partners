{
 "cells": [
  {
   "cell_type": "markdown",
   "id": "508be7fd-7c1d-46b1-945d-d0da8ed19c82",
   "metadata": {},
   "source": [
    "# 自動車事故の検出に使用されるアプローチの概要\n",
    "\n",
    "私たちの任務は、保険金請求に静止画像で表示された自動車事故が含まれているかどうかを識別できるアプリケーションの開発です。事故が検出されると、請求は適切な請求処理部門に転送されます。まずは、YOLO モデルの使い方を学びましょう。\n",
    "\n",
    "Note:  YOLOは <I> 'You Only Look Once'　の略です.</I>\n",
    "\n",
    "このノートブックでは、事前トレーニング済みの機械学習モデル YOLOv8m を使用して、静止画像でどのように機能するかを調べます。車を検出できる場合は、モデルを再トレーニングして自動車事故を検出できます。\n",
    "\n",
    "まず、YOLOモデル用のultralyticsパッケージをインストールし、いくつかのpythonパッケージをインポートします。:"
   ]
  },
  {
   "cell_type": "code",
   "execution_count": null,
   "id": "952e0a5e-e038-46bc-b7a2-16ca7ec64af5",
   "metadata": {
    "tags": []
   },
   "outputs": [],
   "source": [
    "# このラボ用に設計された Workbench イメージを使用していない場合は、次の行のコメントを解除して実行し、必要なパッケージをインストールできます。\n",
    "# !pip install --no-cache-dir --no-dependencies -r requirements.txt\n",
    "\n",
    "import cv2\n",
    "from ultralytics import YOLO\n",
    "from PIL import Image"
   ]
  },
  {
   "cell_type": "code",
   "execution_count": null,
   "id": "ff63f26e-1a19-4409-ad99-d0abb45d74aa",
   "metadata": {
    "tags": []
   },
   "outputs": [],
   "source": [
    "物体検出にはYOLOv8mモデルを使用します。\n",
    "model = YOLO('yolov8m.pt')"
   ]
  },
  {
   "cell_type": "code",
   "execution_count": null,
   "id": "568460ea-b6b2-48b6-87fb-2a7d2f8091e0",
   "metadata": {
    "tags": []
   },
   "outputs": [],
   "source": [
    "テストしたい画像を表示する\n",
    "Image.open(\"images/carImage0.jpg\")"
   ]
  },
  {
   "cell_type": "code",
   "execution_count": null,
   "id": "c4c129c0-e309-45e3-b094-ee4ee999dd7d",
   "metadata": {
    "tags": []
   },
   "outputs": [],
   "source": [
    "YOLOモデルが指定された写真内の車のオブジェクトを識別できるかどうかをテストします\n",
    "results = model.predict(\"images/carImage0.jpg\")"
   ]
  },
  {
   "cell_type": "markdown",
   "id": "86e1bd1b-123c-4fac-ab18-da40323cc97e",
   "metadata": {},
   "source": [
    "YOLO は、提供された写真に「1 台の車」があると判断したことがわかります。これは私たちにとって素晴らしいニュースです。YOLO が車のオブジェクトを検出していることを確認するために、さらに数枚の写真をテストできます。次に、YOLO が検出した車の周囲にボックスを描画するコードを作成します。"
   ]
  },
  {
   "cell_type": "code",
   "execution_count": null,
   "id": "c00d4d9a-7b03-479a-9995-f0a0cddbf1e1",
   "metadata": {
    "tags": []
   },
   "outputs": [],
   "source": [
    "<images> フォルダー内のすべての画像を一覧表示します。その後、テスト用にそれらの画像の 1 つを選択できます。\n",
    "!ls -al images"
   ]
  },
  {
   "cell_type": "code",
   "execution_count": null,
   "id": "1c920270-62a0-41be-a8e3-0ccf57771fcc",
   "metadata": {
    "tags": []
   },
   "outputs": [],
   "source": [
    "車の画像（例：<carImage4.jpg>）を選択し、yolo が画像に自動車が含まれているかどうかを判断できるかどうかを確認します。\n",
    "img = Image.open('images/carImage4.jpg')\n",
    "img_resized = img.resize((500, 300))\n",
    "display(img_resized)"
   ]
  },
  {
   "cell_type": "code",
   "execution_count": null,
   "id": "26771df8-1e76-4aee-893d-1200b9871fff",
   "metadata": {
    "tags": []
   },
   "outputs": [],
   "source": [
    "モデル予測の結果を取得する\n",
    "results = model.predict(img)"
   ]
  },
  {
   "cell_type": "markdown",
   "id": "24a0c24c-9847-4ab0-a242-ca236fffda3e",
   "metadata": {},
   "source": [
    "<carImage4.jpg> の結果を見ると、yolo は 17 台の車と 1 台のトラックがあると判断していることがわかります。この結果は興味深いものです。yolo モデルは、複数の車両を含む画像内で複数の「車」を識別できることが確認できました。\n",
    "\n",
    "しかし、画像に表示されている車両が非常に多いため、私たち「人間」がすべての車両を正確に数えることは難しいかもしれません。\n",
    "\n",
    "したがって、画像内で YOLO モデルが識別した車の周囲にボックスを描画するコードを記述してみましょう。\n",
    "\n",
    "**ノートブック `04-02-car-recognition.ipynb`　を開いてください。**."
   ]
  }
 ],
 "metadata": {
  "kernelspec": {
   "display_name": "Python 3.11",
   "language": "python",
   "name": "python3"
  },
  "language_info": {
   "codemirror_mode": {
    "name": "ipython",
    "version": 3
   },
   "file_extension": ".py",
   "mimetype": "text/x-python",
   "name": "python",
   "nbconvert_exporter": "python",
   "pygments_lexer": "ipython3",
   "version": "3.11.5"
  }
 },
 "nbformat": 4,
 "nbformat_minor": 5
}
