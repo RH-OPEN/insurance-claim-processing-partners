{
 "cells": [
  {
   "cell_type": "markdown",
   "id": "70bedcd9-6e54-4fe7-951f-807c6ab2f0e9",
   "metadata": {},
   "source": [
    "# 再トレーニングされた YOLO モデルをテストする\n",
    "\n",
    "モデルを再トレーニングしたので、'テスト'画像に対してモデルをテストできます。"
   ]
  },
  {
   "cell_type": "code",
   "execution_count": null,
   "id": "cb59c2a5-7de8-48b2-8f32-a83b4b42a7ab",
   "metadata": {},
   "outputs": [],
   "source": [
    "# If you did not use the Workbench image designed for this Lab, you can uncomment and run the following line to install the required packages.\n",
    "# !pip install --no-cache-dir --no-dependencies -r requirements.txt\n",
    "\n",
    "from ultralytics import YOLO\n",
    "from PIL import Image"
   ]
  },
  {
   "cell_type": "markdown",
   "id": "5c5cc11d-54eb-4f95-a92a-4b9f6cf1fac6",
   "metadata": {},
   "source": [
    "前回のノートブックでは、モデルを再トレーニングする方法について説明しました。これは GPU の効率性を必要とする時間のかかるタスクであるため、ワークショップ中に実際に実行することはできません。\n",
    "\n",
    "そのため、便宜上、ONNX 形式でエクスポートされた、再トレーニング済みのモデルを利用できます。"
   ]
  },
  {
   "cell_type": "code",
   "execution_count": null,
   "id": "1a927c99-c8d0-44d2-94ce-be033b8ca0de",
   "metadata": {},
   "outputs": [],
   "source": [
    "# Get the newly trained model.\n",
    "\n",
    "model = YOLO(\"https://rhods-public.s3.amazonaws.com/demo-models/ic-models/accident/accident_detect.onnx\", task=\"detect\")"
   ]
  },
  {
   "cell_type": "code",
   "execution_count": null,
   "id": "bdab1fa5-1d47-4060-b32a-e53f52a7a993",
   "metadata": {},
   "outputs": [],
   "source": [
    "# Test the model against a car accident image\n",
    "\n",
    "results = model.predict(\"images/carImage3.jpg\")  # We know that Image3 represents a severe accident with over 86% certainty."
   ]
  },
  {
   "cell_type": "code",
   "execution_count": null,
   "id": "88eb63c2-a479-4fdd-b194-c36935badd07",
   "metadata": {},
   "outputs": [],
   "source": [
    "# Extract all the information from the result (type, bounding box, probability)\n",
    "\n",
    "result = results[0]\n",
    "for box in result.boxes:\n",
    "  class_id = result.names[box.cls[0].item()]\n",
    "  cords = box.xyxy[0].tolist()\n",
    "  cords = [round(x) for x in cords]\n",
    "  conf = round(box.conf[0].item(), 2)\n",
    "  print(\"Object type:\", class_id)\n",
    "  print(\"Coordinates:\", cords)\n",
    "  print(\"Probability:\", conf)\n",
    "  print(\"---\")"
   ]
  },
  {
   "cell_type": "code",
   "execution_count": null,
   "id": "970ea08c-9419-47bb-9df1-2914d91e8c8f",
   "metadata": {},
   "outputs": [],
   "source": [
    "# On the image, draw the box, the name of the class, and the probability (how much the model is sure about the detection).\n",
    "\n",
    "Image.fromarray(result.plot()[:,:,::-1])"
   ]
  },
  {
   "cell_type": "markdown",
   "id": "1784c664-01ea-4787-acd7-631854caa9fd",
   "metadata": {},
   "source": [
    "'carImage3.jpg' を調べると、再トレーニングされた YOLO モデルは 86% の信頼度で 'car accident' を正確に予測します。  次に、自動車事故の周囲にボックスが描かれ、`severe 0.86` というラベルが付けられます。\n",
    "\n",
    "事故の重大度を検出できるモデルができたので、予測関数を作成し、ModelMesh を使用してモデルを提供しましょう。\n",
    "\n",
    "** その方法については、「Instructions of the Lab」に戻って学習してください ** 。\n",
    "\n",
    "** ノートブック `04-05-model-serving.ipynb` はまだ開かないでください ** 。"
   ]
  }
 ],
 "metadata": {
  "kernelspec": {
   "display_name": "Python 3.11",
   "language": "python",
   "name": "python3"
  },
  "language_info": {
   "codemirror_mode": {
    "name": "ipython",
    "version": 3
   },
   "file_extension": ".py",
   "mimetype": "text/x-python",
   "name": "python",
   "nbconvert_exporter": "python",
   "pygments_lexer": "ipython3",
   "version": "3.11.5"
  }
 },
 "nbformat": 4,
 "nbformat_minor": 5
}
