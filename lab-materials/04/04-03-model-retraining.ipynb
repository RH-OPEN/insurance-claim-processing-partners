{
 "cells": [
  {
   "cell_type": "markdown",
   "id": "f8cbdac0-3371-48af-aaa9-c40bbbcb62ff",
   "metadata": {},
   "source": [
    "# YOLO モデルを再トレーニングする\n",
    "\n",
    "YOLO モデルを再トレーニングするには、中程度の事故と重大な事故のラベルが付いた準備された自動車画像のデータセットが必要です。トレーニング データセットと検証データセットに分割されたアノテーションされた画像のデータセット (RoboFlow から取得) が既にあります。これらのトレーニング/検証セットを使用して、現在の YOLO モデルを再トレーニングします。 トレーニングに必要なデータ構造に関するいくつかの情報:\n",
    "\n",
    "1. モデルに検出を教えたいオブジェクトのエンコード クラスは、0-`moderate` と 1-`severe`.\n",
    "2. データセットは独自のフォルダー内にあり、その中に 2 つのサブフォルダー `train` と `valid` があります。  各サブフォルダー内には 2 つのサブフォルダー `images` と `labels` があります。\n",
    "3. 各画像には `labels` サブフォルダー内に、対応するアノテーション用テキストファイルがあります。 アノテーション用テキストファイルには、画像ファイルと同じ名前が付けられます。\n",
    "4. データセット記述 YAML ファイル (data.yaml) はデータセットを示し、データセット内のオブジェクト クラスを記述します。この YAML ファイルはモデルの `train` メソッドに渡されて、トレーニング プロセスを開始します。\n",
    "**Note**: テキストや音声、画像、動画などあらゆる形態のデータの1つ1つに、タグやメタデータと呼ばれる情報を付けていく工程のことをアノテーションと呼んでいます。\n",
    "\n",
    "さぁ始めましょう！"
   ]
  },
  {
   "cell_type": "code",
   "execution_count": null,
   "id": "602e0c59-42b1-4de4-9de2-d0875cf597c8",
   "metadata": {
    "tags": []
   },
   "outputs": [],
   "source": [
    "# If you did not use the Workbench image designed for this Lab, you can uncomment and run the following line to install the required packages.\n",
    "# !pip install --no-cache-dir --no-dependencies -r requirements.txt\n",
    "\n",
    "import os\n",
    "import requests\n",
    "import zipfile\n",
    "from tqdm.notebook import tqdm\n",
    "from ultralytics import YOLO"
   ]
  },
  {
   "cell_type": "markdown",
   "id": "cc755b4b-db03-4b43-9da9-80ed8298417b",
   "metadata": {},
   "source": [
    "次に、YOLO モデル 'yolo8m.pt' をロードしましょう。"
   ]
  },
  {
   "cell_type": "code",
   "execution_count": null,
   "id": "6e595eb2-0e11-4dce-9d5c-2a2025ddcd6d",
   "metadata": {
    "tags": []
   },
   "outputs": [],
   "source": [
    "# Load model\n",
    "model = YOLO('yolov8m.pt')  # load a pretrained model (recommended for training)"
   ]
  },
  {
   "cell_type": "markdown",
   "id": "37d43616-2d25-419b-bd30-47a5aafb0d33",
   "metadata": {
    "tags": []
   },
   "source": [
    "## トレーニングデータを取得する\n",
    "\n",
    "次の 2 つのトレーニング データ セットが zip ファイルとして提供されています。  \n",
    "1) `accident-full.zip`   - モデルを完全に再トレーニングするために使用\n",
    "2) `accident-sample.zip` - モデルを完全に再トレーニングする時間がない場合に、モデルを部分的に再トレーニングするために使用\n",
    "\n",
    "ワークショップ中はサンプル データセットのみを使用します。"
   ]
  },
  {
   "cell_type": "code",
   "execution_count": null,
   "id": "2657ceae-db2d-4d65-ae1c-e807254ee71b",
   "metadata": {
    "tags": []
   },
   "outputs": [],
   "source": [
    "# Function to retrieve a specific dataset\n",
    "def retrieve_dataset(dataset_type):\n",
    "\n",
    "    # Check if the directory exists, if not, create it\n",
    "    if not os.path.exists(\"./datasets/\"):\n",
    "        os.makedirs(\"./datasets/\")\n",
    "\n",
    "    URL = f\"https://rhods-public.s3.amazonaws.com/sample-data/accident-data/accident-{dataset_type}.zip\"\n",
    "\n",
    "    # Check if the file exists, if not, download and unzip it\n",
    "    if not os.path.exists(f\"./datasets/accident-{dataset_type}.zip\"):\n",
    "        print(\"Downloading file...\")\n",
    "        response = requests.get(URL, stream=True)\n",
    "        total_size = int(response.headers.get('content-length', 0))\n",
    "        block_size = 1024\n",
    "        t = tqdm(total=total_size, unit='iB', unit_scale=True)\n",
    "        with open(f'./datasets/accident-{dataset_type}.zip', 'wb') as f:\n",
    "            for data in response.iter_content(block_size):\n",
    "                t.update(len(data))\n",
    "                f.write(data)\n",
    "        t.close()\n",
    "    if os.path.exists(f\"./datasets/accident-{dataset_type}.zip\"):\n",
    "        print(\"Unzipping file...\")\n",
    "        with zipfile.ZipFile(f'./datasets/accident-{dataset_type}.zip', 'r') as zip_ref:\n",
    "            zip_ref.extractall(path='./datasets/')\n",
    "    print(\"Done!\")\n",
    "\n",
    "\n",
    "dataset_type = 'sample'\n",
    "# dataset_type = 'full' # Use this line instead if you want to retrieve the full dataset\n",
    "retrieve_dataset(dataset_type)"
   ]
  },
  {
   "cell_type": "markdown",
   "id": "93e7d5b4-4c29-4eff-b1ba-a9dddf382173",
   "metadata": {
    "tags": []
   },
   "source": [
    "## YOLO モデルを再トレーニングする\n",
    "\n",
    "'epoch' とは何かを理解することから始めましょう。  機械学習モデルは、アルゴリズムを通過した特定のデータセットを使用してトレーニングされます。完全なデータセットがアルゴリズムを通過するたびに、**epoch** が完了したと言われます。各 **epoch**  では、モデルのトレーニングがさらに洗練されます。\n",
    "\n",
    "以下のトレーニング コードでは、さまざまなパラメーターを設定します。  \n",
    "**results = model.train(data='./datasets/accident-sample/data.yaml', epochs=1, imgsz=640, batch=2)**\n",
    "\n",
    "- epochs: プロセスをデモするだけなので、エポックは 1 つだけ使用します。\n",
    "- imgsz: これはモデルに供給する必要がある画像のサイズです。\n",
    "- batch: これは、アルゴリズムが同時に処理する画像の数です。多ければ多いほど良い結果が得られますが、消費するメモリも多くなります。このワークショップでは限られたリソースを使用しており、これは単なるトレーニング例であるため、意図的に低い値の 2 に保ちます。\n",
    "\n",
    "トレーニングの実行では、各 **epoch<** にトレーニング フェーズと検証フェーズの両方の概要が表示されます。行 1 と 2 はトレーニングフェーズの結果を示し、行 3 と 4 は各エポックの検証フェーズの結果を示します。\n",
    "\n",
    "次のセルを実行して、モデルの再トレーニングを開始しましょう！"
   ]
  },
  {
   "cell_type": "code",
   "execution_count": null,
   "id": "22954895-0c26-4ae0-93c1-259efd18e47e",
   "metadata": {
    "tags": []
   },
   "outputs": [],
   "source": [
    "# Train the model\n",
    "\n",
    "results = model.train(data='./datasets/accident-sample/data.yaml', epochs=1, imgsz=640, batch=2)"
   ]
  },
  {
   "cell_type": "markdown",
   "id": "45050c91-fb6c-4f14-a4d1-e72d3a40538f",
   "metadata": {},
   "source": [
    "**Note**: 標準的な再トレーニングの後、結果に満足できれば、モデルを ONNX 形式にエクスポートできます。\n",
    "(次のコマンドの trainX を使用するトレーニングセッションに置き換えます。)\n",
    "\n",
    "`ObjDetOXModel = YOLO(\"runs/detect/trainX/weights/best.pt\").export(format=\"onnx\")`"
   ]
  },
  {
   "cell_type": "markdown",
   "id": "cd0f7412-0b9b-46d1-b2f6-ded479b20cb7",
   "metadata": {},
   "source": [
    "## トレーニング結果の解釈\n",
    "\n",
    "**full dataset** に対するトレーニングのプロセスと結果の詳細な説明は、ラボの手順で参照できます。\n",
    "\n",
    "モデルを再トレーニングしたので、自動車事故のある画像に対してテストしてみましょう！\n",
    "\n",
    "**ノートブック `04-04-accident-recog.ipynb` を開いてください** 。"
   ]
  }
 ],
 "metadata": {
  "kernelspec": {
   "display_name": "Python 3.11",
   "language": "python",
   "name": "python3"
  },
  "language_info": {
   "codemirror_mode": {
    "name": "ipython",
    "version": 3
   },
   "file_extension": ".py",
   "mimetype": "text/x-python",
   "name": "python",
   "nbconvert_exporter": "python",
   "pygments_lexer": "ipython3",
   "version": "3.11.5"
  }
 },
 "nbformat": 4,
 "nbformat_minor": 5
}
