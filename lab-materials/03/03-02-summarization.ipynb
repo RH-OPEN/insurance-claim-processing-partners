{
 "cells": [
  {
   "cell_type": "markdown",
   "id": "4ad2cc4e-31ec-4648-b0fe-6632f2bdbc36",
   "metadata": {},
   "source": [
    "## LLMをプログラム的に操作する\n",
    "\n",
    "これまでに ChatGPT のような大規模言語モデル (LLM) とやり取りしたことがあるはずです。これは通常、UI またはアプリケーションを通じて行われます。\n",
    "\n",
    "このノートブックでは、Python を使用して、API を介して直接 LLM に接続し、クエリを実行します。このラボでは、**OLLAMA Mistral-7B** モデルを選択しました。[(https://ollama.com/library/mistral](https://ollama.com/library/mistral))。これは完全にオープン ソースのモデル (Apache 2.0 ライセンス) であり、他の商用モデルやオープン ソース モデルよりもはるかに軽量ですが、特に私たちが使用しようとしているタスクでは非常に優れています。\n",
    "\n",
    "このモデルは既にラボ クラスターにデプロイされています。これは、モデルが小さい場合でも GPU ではなく CPU でホストしているため、LLM サービスの速度は低下しますが、デモ環境用の低コスト オプションが提供されるためです。"
   ]
  },
  {
   "cell_type": "code",
   "execution_count": 1,
   "id": "dd03df78-4cf2-43d8-9d99-b6e8c773cc3c",
   "metadata": {
    "tags": []
   },
   "outputs": [
    {
     "name": "stdout",
     "output_type": "stream",
     "text": [
      "\n",
      "\u001b[1m[\u001b[0m\u001b[34;49mnotice\u001b[0m\u001b[1;39;49m]\u001b[0m\u001b[39;49m A new release of pip is available: \u001b[0m\u001b[31;49m23.3.2\u001b[0m\u001b[39;49m -> \u001b[0m\u001b[32;49m24.0\u001b[0m\n",
      "\u001b[1m[\u001b[0m\u001b[34;49mnotice\u001b[0m\u001b[1;39;49m]\u001b[0m\u001b[39;49m To update, run: \u001b[0m\u001b[32;49mpip install --upgrade pip\u001b[0m\n"
     ]
    }
   ],
   "source": [
    "!pip install -q langchain==0.1.14"
   ]
  },
  {
   "cell_type": "markdown",
   "id": "2a4e2b81-0e10-4390-a7b8-5ddfda53a3e3",
   "metadata": {},
   "source": [
    "### 要件とインポート\n",
    "\n",
    "ラボの指示に従って起動する適切なワークベンチ イメージを選択した場合は、必要なライブラリがすべてすでに用意されているはずです。そうでない場合は、次のセルの最初の行のコメントを解除して、適切なパッケージをすべてインストールします。その後、必要なライブラリをインポートします。"
   ]
  },
  {
   "cell_type": "code",
   "execution_count": 2,
   "id": "d61c595d-967e-47de-a598-02b5d1ccec85",
   "metadata": {
    "tags": []
   },
   "outputs": [],
   "source": [
    "# インポート\n",
    "import json\n",
    "import os\n",
    "from os import listdir\n",
    "from os.path import isfile, join\n",
    "from langchain.chains import ConversationChain\n",
    "from langchain.memory import ConversationBufferMemory\n",
    "from langchain_community.llms import Ollama\n",
    "from langchain.callbacks.streaming_stdout import StreamingStdOutCallbackHandler\n",
    "from langchain.prompts import PromptTemplate\n",
    "from langchain.chains import LLMChain"
   ]
  },
  {
   "cell_type": "markdown",
   "id": "c428fbad-2345-4536-b687-72416d6b9b15",
   "metadata": {},
   "source": [
    "### Langchain\n",
    "\n",
    "Langchain (https://www.langchain.com/) は、言語モデルを利用したアプリケーションを開発するためのフレームワークです。LLM を適切にクエリするために手動で記述する必要のあるすべての定型コードを処理します。\n",
    "\n",
    "まず、LLM API をクエリできる場所とモデルに適用されるいくつかのパラメータで定義される **llm** インスタンスを作成します。たとえば、`max_new_tokens` は、モデルに最大 96 個のトークン (単語または単語の一部) で応答するように指示します。ここで非常に低く設定されている `temperature` は、モデルに真実に基づいたままで、あまり \"創造的\" にならないように指示します。結局のところ、ここでは派手な詩を書こうとしているわけではありません。"
   ]
  },
  {
   "cell_type": "code",
   "execution_count": 3,
   "id": "4c36cbcd-889a-4e62-886c-bc4d2f60ba2a",
   "metadata": {
    "tags": []
   },
   "outputs": [],
   "source": [
    "inference_server_url = \"http://llm.ic-shared-llm.svc.cluster.local:11434\""
   ]
  },
  {
   "cell_type": "code",
   "execution_count": 4,
   "id": "77f95a70-89fb-4e21-a51c-24e862b7953e",
   "metadata": {
    "tags": []
   },
   "outputs": [
    {
     "name": "stdout",
     "output_type": "stream",
     "text": [
      "\u001b[1mOllama\u001b[0m\n",
      "Params: {'model': 'mistral', 'format': None, 'options': {'mirostat': None, 'mirostat_eta': None, 'mirostat_tau': None, 'num_ctx': None, 'num_gpu': None, 'num_thread': None, 'num_predict': 512, 'repeat_last_n': None, 'repeat_penalty': 1.03, 'temperature': 0.01, 'stop': None, 'tfs_z': None, 'top_k': None, 'top_p': 0.92}, 'system': None, 'template': None, 'keep_alive': None}\n"
     ]
    }
   ],
   "source": [
    "# LLMの設定\n",
    "llm = Ollama(\n",
    "    base_url=inference_server_url,\n",
    "    model=\"mistral\",\n",
    "    top_p=0.92,\n",
    "    temperature=0.01,\n",
    "    num_predict=512,\n",
    "    repeat_penalty=1.03,\n",
    "    callbacks=[StreamingStdOutCallbackHandler()]\n",
    ")\n",
    "\n",
    "print(llm)"
   ]
  },
  {
   "cell_type": "markdown",
   "id": "20b950bc-4d73-49e5-a35b-083a784edd50",
   "metadata": {},
   "source": [
    "また、モデルに送信するすべてのリクエスト (\"プロンプト\") に適用する **テンプレート** も必要です。\n",
    "\n",
    "モデルにクエリを実行する場合、ユーザーが入力した内容をそのまま送信することはほとんどないでしょう。この入力に加えて、モデルがそれをどのように処理するかを認識できるように、適切な指示を与える必要があります。何をどのように回答するか、何に回答してはいけないか、どのような口調で答えるかなどです。"
   ]
  },
  {
   "cell_type": "code",
   "execution_count": 5,
   "id": "f8bb7517-faa2-43ed-a95d-835de975f916",
   "metadata": {
    "tags": []
   },
   "outputs": [],
   "source": [
    "template=\"\"\"<s>[INST]<<SYS>>\n",
    "You are a helpful, respectful and honest assistant. Always be as helpful as possible, while being safe.\n",
    "You will be asked a question, to which you must give an answer.\n",
    "Your answer should not include any harmful, unethical, racist, sexist, toxic, dangerous, or illegal content.\n",
    "Please ensure that your responses are socially unbiased and positive in nature.\n",
    "If a question does not make any sense, or is not factually coherent, explain why instead of answering something not correct.\n",
    "If you don't know the answer to a question, answer \"I don't know\".\n",
    "<</SYS>>\n",
    "\n",
    "### QUESTION:\n",
    "{input}\n",
    "\n",
    "### ANSWER:\n",
    "[/INST]\n",
    "\"\"\"\n",
    "PROMPT = PromptTemplate(input_variables=[\"input\"], template=template)"
   ]
  },
  {
   "cell_type": "markdown",
   "id": "9cbe2119-2128-4432-aed1-126e9c8c034f",
   "metadata": {},
   "source": [
    "Langchain を使用すると、これらの要素を簡単に \"つなぎ合わせ\"、モデルのクエリに使用する **会話** オブジェクトを作成できるようになりました。"
   ]
  },
  {
   "cell_type": "code",
   "execution_count": 6,
   "id": "0e6d9f32-d4ae-4c2f-b513-d520413d2cc8",
   "metadata": {
    "tags": []
   },
   "outputs": [],
   "source": [
    "conversation = LLMChain(llm=llm,\n",
    "                        prompt=PROMPT,\n",
    "                        verbose=False\n",
    "                        )"
   ]
  },
  {
   "cell_type": "code",
   "execution_count": 8,
   "id": "578ac3f4-6c75-40f1-b105-03e203097ba6",
   "metadata": {
    "tags": []
   },
   "outputs": [],
   "source": [
    "# Read the claims and populate a dictionary\n",
    "claims_path = 'claims'\n",
    "onlyfiles = [f for f in listdir(claims_path) if isfile(join(claims_path, f))]\n",
    "\n",
    "claims = {}\n",
    "\n",
    "for filename in onlyfiles:\n",
    "    # Opening JSON file\n",
    "    with open(os.path.join(claims_path, filename), 'r') as file:\n",
    "        data = json.load(file)\n",
    "    claims[filename] = data\n"
   ]
  },
  {
   "cell_type": "code",
   "execution_count": 9,
   "id": "18d0c98d-b105-4ed0-b598-0b0372388eed",
   "metadata": {
    "tags": []
   },
   "outputs": [
    {
     "name": "stdout",
     "output_type": "stream",
     "text": [
      "***************************\n",
      "* Claim: claim3.json\n",
      "***************************\n",
      "Original content:\n",
      "-----------------\n",
      "Subject: Urgent: Car Accident Claim Assistance Needed\n",
      "Content:\n",
      "Dear AssuranceCare Inc.,\\n\\nI hope this email finds you well. I'm writing to, uh, inform you about, well, something that happened recently. It's, um, about a car accident, and I'm not really sure how to, you know, go about all this. I'm kinda anxious and confused, to be honest.\\n\\nSo, the accident, uh, occurred on January 15, 2024, at around 3:30 PM. I was driving, or, um, attempting to drive, my car at the intersection of Maple Street and Elm Avenue. It's kinda close to, um, a gas station and a, uh, coffee shop called Brew Haven? I'm not sure if that matters, but, yeah.\\n\\nSo, I was just, you know, driving along, and suddenly, out of nowhere, another car, a Blue Crest Sedan, crashed into the, uh, driver's side of my car. It was like, whoa, what just happened, you know? There was this screeching noise and, uh, some honking from other cars, and I just felt really, uh, overwhelmed.\\n\\nThe weather was, um, kinda cloudy that day, but I don't think it was raining. I mean, I can't really remember. Sorry if that's important. Anyway, the road, or, well, maybe the intersection, was kinda busy, with cars going in different directions. I guess that's, you know, a detail you might need?\\n\\nAs for damages, my car has, uh, significant damage on the driver's side. The front door is all dented, and the side mirror is, like, hanging by a thread. It's not really drivable in its current, uh, state. The Blue Crest Sedan also had some damage, but I'm not exactly sure what because, you know, everything happened so fast.\\n\\nI did manage to exchange information with the other driver. Their name is Sarah Johnson, and I got their phone number (555-1234), license plate number (ABC123), and insurance information. So, yeah, I hope that's helpful.\\n\\nI'm not sure what, um, steps I should take now. Do I need to go to a specific, uh, repair shop? Should I get a quote for the repairs? And, uh, how do I, you know, proceed with the insurance claim? I'm kinda lost here, and any guidance or assistance you can provide would be really, um, appreciated.\\n\\nSorry if this email is a bit all over the place. I'm just really, uh, anxious about the whole situation. Thank you for your understanding.\\n\\nSincerely,\\n\\nJane Doe\\nPolicy Number: AC987654\n",
      "\n",
      "\n",
      "Summary:\n",
      "--------\n",
      " Dear Jane Doe,\n",
      "\n",
      "I'm sorry to hear about the car accident you were involved in on January 15, 2024, at the intersection of Maple Street and Elm Avenue. I understand that this can be a confusing and overwhelming situation. Here are some general steps you can take regarding the insurance claim process:\n",
      "\n",
      "1. Contact your insurance company as soon as possible to report the accident and provide them with the details of the other driver, including their name (Sarah Johnson), phone number (555-1234), and insurance information.\n",
      "2. Gather all necessary documentation related to the accident, such as the police report (if one was filed), photos of the damage to both vehicles, and any witness statements.\n",
      "3. Schedule an appointment with a reputable repair shop to assess the damage to your vehicle and provide an estimate for repairs.\n",
      "4. Keep detailed records of all communication with your insurance company and the other driver's insurance company.\n",
      "5. Be prepared to provide a statement about the accident to your insurance company and the other driver's insurance company.\n",
      "\n",
      "Regarding your question about whether you need to go to a specific repair shop, it is generally up to you to choose a repair shop that you trust. However, your insurance company may have a preferred network of repair shops, and using one of those shops may make the process smoother.\n",
      "\n",
      "I hope this information is helpful. If you have any further questions or concerns, please don't hesitate to ask.\n",
      "\n",
      "Best regards,\n",
      "AssuranceCare Inc. Customer Support Team.\n",
      "\n",
      "                          ----====----\n",
      "\n",
      "***************************\n",
      "* Claim: claim1.json\n",
      "***************************\n",
      "Original content:\n",
      "-----------------\n",
      "Subject: Claim for Recent Car Accident - Policy Number: AC-987654321\n",
      "Content:\n",
      "Dear Pacific Shield Insurance,\n",
      "\n",
      "I hope this email finds you well. My name is Sarah Turner, and I am writing to file a claim for a recent car accident that occurred on January 2nd, 2024, at approximately 3:30 PM. My policy number is AC-987654321.\n",
      "\n",
      "The accident took place at the intersection of Birch Street and Willow Avenue in the city of Evergreen. I was driving my vehicle, a black Toyota Camry with license plate number DEF-456, heading south on Birch Street. At the intersection, the traffic signal was green, and I proceeded through the intersection.\n",
      "\n",
      "At the same time, another vehicle, a blue Chevrolet Traverse with license plate number GHI-789, was traveling west on Willow Avenue. Unfortunately, the driver failed to stop at the red traffic signal, resulting in a collision with the front passenger side of my vehicle.\n",
      "\n",
      "The impact caused significant damage to both vehicles. The front bumper and right headlight of my Toyota Camry are extensively damaged, and there are also damages to the front driver's side of the Chevrolet Traverse. Fortunately, no injuries were sustained during the accident, and both drivers were able to move their vehicles to the side of the road.\n",
      "\n",
      "I promptly exchanged information with the other driver, Mr. Daniel Reynolds, including our names, phone numbers, insurance details, and a brief description of the accident. Additionally, I took photos of the accident scene, including the damages to both vehicles and the position of the traffic signal.\n",
      "\n",
      "I have attached the necessary documents to this email, including the photos, a copy of the police report filed at the Evergreen Police Department, and the estimate for the repair costs from Evergreen Auto Repair, where I have taken my vehicle for assessment.\n",
      "\n",
      "I kindly request your prompt attention to this matter and would appreciate any guidance on the next steps in the claims process. If you require any additional information or documentation, please do not hesitate to contact me at (555) 123-4567 or sarah.turner@email.com.\n",
      "\n",
      "Thank you for your assistance, and I look forward to a swift resolution of this claim.\n",
      "\n",
      "Sincerely,\n",
      "\n",
      "Sarah Turner\n",
      "123 Oak Street\n",
      "Evergreen, CA 98765\n",
      "(555) 123-4567\n",
      "sarah.turner@email.com\n",
      "\n",
      "\n",
      "Summary:\n",
      "--------\n",
      " Dear Sarah Turner,\n",
      "\n",
      "Thank you for reaching out to Pacific Shield Insurance and filing your car accident claim in a timely and detailed manner. I have received your email and the accompanying documents regarding the incident that occurred on January 2nd, 2024, at the intersection of Birch Street and Willow Avenue in Evergreen.\n",
      "\n",
      "I appreciate the thoroughness of your report, including the exchange of information with the other driver, Mr. Daniel Reynolds, and the collection of evidence such as photos and a police report. I will review your claim and the attached documents carefully.\n",
      "\n",
      "Once we have assessed the information provided, we will contact you with any additional requirements or next steps in the claims process. In the meantime, please feel free to reach out if you have any questions or concerns.\n",
      "\n",
      "We understand that this is a stressful situation, and we will do our best to process your claim as efficiently as possible. If you require any assistance or guidance during this time, please don't hesitate to contact us at (800) 123-4567 or claims@pacificshieldinsurance.com.\n",
      "\n",
      "Thank you for choosing Pacific Shield Insurance, and we look forward to resolving your claim promptly and fairly.\n",
      "\n",
      "Best regards,\n",
      "\n",
      "[Your Name]\n",
      "Pacific Shield Insurance\n",
      "Claims Team Member\n",
      "\n",
      "                          ----====----\n",
      "\n",
      "***************************\n",
      "* Claim: claim2.json\n",
      "***************************\n",
      "Original content:\n",
      "-----------------\n",
      "Subject: Urgent: Unacceptable Delay and Lack of Communication Regarding Claim #XYZ789\n",
      "Content:\n",
      "Dear Prestige Insurances,\n",
      "\n",
      "I am writing to express my extreme dissatisfaction with the appalling service I have received concerning my recent claim, reference number #XYZ789. The lack of communication and delayed response from your company is utterly unacceptable, and I demand immediate attention to rectify this matter.\n",
      "\n",
      "The accident occurred on January 15, 2024, at approximately 3:45 PM, near the intersection of Maple Street and Oak Avenue in Rivertown. My vehicle, a Silver Hawk GT, was struck by another driver, identified as Samantha Reynolds, who ran a red light at the aforementioned intersection. This incident resulted in substantial damage to the front end of my car, including severe structural damage and airbag deployment.\n",
      "\n",
      "I reported the claim immediately after the accident, providing all necessary details, witness information, and a detailed description of the events leading up to the collision. However, the response—or lack thereof—from your company has been absolutely deplorable. I have yet to receive any updates on the status of my claim, and my attempts to contact your claims department have been met with prolonged hold times and unhelpful representatives.\n",
      "\n",
      "I insist on a thorough investigation into this matter and demand an explanation for the unreasonable delay. It is my right as a policyholder to receive timely updates on the progress of my claim and to be treated with the respect and urgency that this situation demands.\n",
      "\n",
      "Furthermore, the lack of transparency and communication from your company is not only unprofessional but also exacerbates the stress and inconvenience caused by the accident itself. I expect immediate action to be taken to expedite the processing of my claim and provide me with the information I am entitled to as a paying customer.\n",
      "\n",
      "I am appalled at the disregard for customer satisfaction and the apparent negligence displayed by your company in handling my claim. If my concerns are not addressed promptly and to my satisfaction, I will have no choice but to escalate this matter to the appropriate regulatory authorities and consider legal action.\n",
      "\n",
      "I demand a comprehensive update on the status of my claim within the next 48 hours. Failing to meet this deadline will only reinforce my belief that your company values its bottom line over the well-being of its customers.\n",
      "\n",
      "I trust that you will treat this matter with the urgency and seriousness it deserves.\n",
      "\n",
      "Sincerely,\n",
      "\n",
      "John T. Anderson\n",
      "Policy Number: PT567890\n",
      "\n",
      "\n",
      "Summary:\n",
      "--------\n",
      " Dear Mr. Anderson,\n",
      "\n",
      "Thank you for bringing your concern regarding claim #XYZ789 to our attention. We apologize for any frustration or inconvenience you have experienced due to the delay in communication and the processing of your claim.\n",
      "\n",
      "We understand the importance of timely and clear communication, especially during such a stressful situation. Our team is currently working diligently to investigate the details of your claim and gather all necessary information to move forward with the process.\n",
      "\n",
      "We appreciate your patience as we work through this matter, and we will make every effort to provide you with updates on the progress of your claim as soon as possible. In the meantime, if you have any specific questions or concerns, please do not hesitate to contact our claims department at [claimsdepartment@prestigeinsurances.com] or call us at [555-1234]. Our representatives will be happy to assist you and provide you with the most accurate and up-to-date information available.\n",
      "\n",
      "We value your business and are committed to providing you with the best possible service. We will make every effort to ensure that your claim is processed efficiently and fairly, and we will keep you informed throughout the process.\n",
      "\n",
      "Once again, we apologize for any inconvenience caused and appreciate your patience as we work to resolve this matter.\n",
      "\n",
      "Sincerely,\n",
      "\n",
      "[Your Name]\n",
      "Customer Service Representative\n",
      "Prestige Insurances\n",
      "\n",
      "                          ----====----\n",
      "\n"
     ]
    }
   ],
   "source": [
    "for filename in onlyfiles:\n",
    "    print(f\"***************************\")\n",
    "    print(f\"* Claim: {filename}\")\n",
    "    print(f\"***************************\")\n",
    "    print(\"Original content:\")\n",
    "    print(\"-----------------\")\n",
    "    print(f\"Subject: {claims[filename]['subject']}\\nContent:\\n{claims[filename]['content']}\\n\\n\")\n",
    "    print('Summary:')\n",
    "    print(\"--------\")\n",
    "    summary_input = f\"Subject: {claims[filename]['subject']}\\nContent:\\n{claims[filename]['content']}\"\n",
    "    conversation.predict(input=summary_input);\n",
    "    print(\"\\n\\n                          ----====----\\n\")"
   ]
  }
 ],
 "metadata": {
  "kernelspec": {
   "display_name": "Python 3.11",
   "language": "python",
   "name": "python3"
  },
  "language_info": {
   "codemirror_mode": {
    "name": "ipython",
    "version": 3
   },
   "file_extension": ".py",
   "mimetype": "text/x-python",
   "name": "python",
   "nbconvert_exporter": "python",
   "pygments_lexer": "ipython3",
   "version": "3.11.5"
  }
 },
 "nbformat": 4,
 "nbformat_minor": 5
}
