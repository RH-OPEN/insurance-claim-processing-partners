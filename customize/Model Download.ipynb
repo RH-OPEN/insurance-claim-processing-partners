{
 "cells": [
  {
   "cell_type": "code",
   "execution_count": 1,
   "id": "5a6c6154-2179-45c2-8cf7-bcd2d9fe2bfc",
   "metadata": {
    "tags": []
   },
   "outputs": [
    {
     "name": "stdout",
     "output_type": "stream",
     "text": [
      "Collecting sparsezoo\n",
      "  Downloading sparsezoo-1.8.1-py3-none-any.whl (177 kB)\n",
      "\u001b[2K     \u001b[90m━━━━━━━━━━━━━━━━━━━━━━━━━━━━━━━━━━━━━━━\u001b[0m \u001b[32m177.8/177.8 kB\u001b[0m \u001b[31m5.4 MB/s\u001b[0m eta \u001b[36m0:00:00\u001b[0m\n",
      "\u001b[?25hCollecting onnxruntime>=1.0.0\n",
      "  Downloading onnxruntime-1.19.2-cp39-cp39-manylinux_2_27_x86_64.manylinux_2_28_x86_64.whl (13.2 MB)\n",
      "\u001b[2K     \u001b[90m━━━━━━━━━━━━━━━━━━━━━━━━━━━━━━━━━━━━━━━\u001b[0m \u001b[32m13.2/13.2 MB\u001b[0m \u001b[31m200.3 MB/s\u001b[0m eta \u001b[36m0:00:00\u001b[0ma \u001b[36m0:00:01\u001b[0m\n",
      "\u001b[?25hCollecting onnx<1.15.0,>=1.5.0\n",
      "  Downloading onnx-1.14.1-cp39-cp39-manylinux_2_17_x86_64.manylinux2014_x86_64.whl (14.6 MB)\n",
      "\u001b[2K     \u001b[90m━━━━━━━━━━━━━━━━━━━━━━━━━━━━━━━━━━━━━━━\u001b[0m \u001b[32m14.6/14.6 MB\u001b[0m \u001b[31m263.8 MB/s\u001b[0m eta \u001b[36m0:00:00\u001b[0ma \u001b[36m0:00:01\u001b[0m\n",
      "\u001b[?25hRequirement already satisfied: protobuf>=3.12.2 in /opt/app-root/lib/python3.9/site-packages (from sparsezoo) (4.25.4)\n",
      "Requirement already satisfied: requests>=2.0.0 in /opt/app-root/lib/python3.9/site-packages (from sparsezoo) (2.32.3)\n",
      "Requirement already satisfied: tqdm>=4.0.0 in /opt/app-root/lib/python3.9/site-packages (from sparsezoo) (4.66.5)\n",
      "Requirement already satisfied: click!=8.0.0,>=7.1.2 in /opt/app-root/lib/python3.9/site-packages (from sparsezoo) (8.1.7)\n",
      "Collecting geocoder>=1.38.0\n",
      "  Downloading geocoder-1.38.1-py2.py3-none-any.whl (98 kB)\n",
      "\u001b[2K     \u001b[90m━━━━━━━━━━━━━━━━━━━━━━━━━━━━━━━━━━━━━━━\u001b[0m \u001b[32m98.6/98.6 kB\u001b[0m \u001b[31m303.0 MB/s\u001b[0m eta \u001b[36m0:00:00\u001b[0m\n",
      "\u001b[?25hRequirement already satisfied: pyyaml>=5.1.0 in /opt/app-root/lib/python3.9/site-packages (from sparsezoo) (6.0.2)\n",
      "Collecting py-machineid>=0.3.0\n",
      "  Downloading py_machineid-0.6.0-py3-none-any.whl (4.9 kB)\n",
      "Requirement already satisfied: pandas>1.3 in /opt/app-root/lib/python3.9/site-packages (from sparsezoo) (2.2.2)\n",
      "Requirement already satisfied: numpy<2.0,>=1.17.0 in /opt/app-root/lib/python3.9/site-packages (from sparsezoo) (1.26.4)\n",
      "Collecting pydantic~=2.0\n",
      "  Downloading pydantic-2.9.2-py3-none-any.whl (434 kB)\n",
      "\u001b[2K     \u001b[90m━━━━━━━━━━━━━━━━━━━━━━━━━━━━━━━━━━━━━\u001b[0m \u001b[32m434.9/434.9 kB\u001b[0m \u001b[31m342.4 MB/s\u001b[0m eta \u001b[36m0:00:00\u001b[0m\n",
      "\u001b[?25hCollecting future\n",
      "  Downloading future-1.0.0-py3-none-any.whl (491 kB)\n",
      "\u001b[2K     \u001b[90m━━━━━━━━━━━━━━━━━━━━━━━━━━━━━━━━━━━━━\u001b[0m \u001b[32m491.3/491.3 kB\u001b[0m \u001b[31m351.1 MB/s\u001b[0m eta \u001b[36m0:00:00\u001b[0m\n",
      "\u001b[?25hCollecting ratelim\n",
      "  Downloading ratelim-0.1.6-py2.py3-none-any.whl (4.0 kB)\n",
      "Requirement already satisfied: six in /opt/app-root/lib/python3.9/site-packages (from geocoder>=1.38.0->sparsezoo) (1.16.0)\n",
      "Requirement already satisfied: typing-extensions>=3.6.2.1 in /opt/app-root/lib/python3.9/site-packages (from onnx<1.15.0,>=1.5.0->sparsezoo) (4.12.2)\n",
      "Collecting flatbuffers\n",
      "  Downloading flatbuffers-24.3.25-py2.py3-none-any.whl (26 kB)\n",
      "Collecting sympy\n",
      "  Downloading sympy-1.13.3-py3-none-any.whl (6.2 MB)\n",
      "\u001b[2K     \u001b[90m━━━━━━━━━━━━━━━━━━━━━━━━━━━━━━━━━━━━━━━━\u001b[0m \u001b[32m6.2/6.2 MB\u001b[0m \u001b[31m262.2 MB/s\u001b[0m eta \u001b[36m0:00:00\u001b[0m\n",
      "\u001b[?25hRequirement already satisfied: packaging in /opt/app-root/lib/python3.9/site-packages (from onnxruntime>=1.0.0->sparsezoo) (24.1)\n",
      "Collecting coloredlogs\n",
      "  Downloading coloredlogs-15.0.1-py2.py3-none-any.whl (46 kB)\n",
      "\u001b[2K     \u001b[90m━━━━━━━━━━━━━━━━━━━━━━━━━━━━━━━━━━━━━━━\u001b[0m \u001b[32m46.0/46.0 kB\u001b[0m \u001b[31m237.3 MB/s\u001b[0m eta \u001b[36m0:00:00\u001b[0m\n",
      "\u001b[?25hRequirement already satisfied: python-dateutil>=2.8.2 in /opt/app-root/lib/python3.9/site-packages (from pandas>1.3->sparsezoo) (2.9.0.post0)\n",
      "Requirement already satisfied: tzdata>=2022.7 in /opt/app-root/lib/python3.9/site-packages (from pandas>1.3->sparsezoo) (2024.1)\n",
      "Requirement already satisfied: pytz>=2020.1 in /opt/app-root/lib/python3.9/site-packages (from pandas>1.3->sparsezoo) (2024.1)\n",
      "Collecting pydantic-core==2.23.4\n",
      "  Downloading pydantic_core-2.23.4-cp39-cp39-manylinux_2_17_x86_64.manylinux2014_x86_64.whl (2.1 MB)\n",
      "\u001b[2K     \u001b[90m━━━━━━━━━━━━━━━━━━━━━━━━━━━━━━━━━━━━━━━━\u001b[0m \u001b[32m2.1/2.1 MB\u001b[0m \u001b[31m343.0 MB/s\u001b[0m eta \u001b[36m0:00:00\u001b[0m\n",
      "\u001b[?25hCollecting annotated-types>=0.6.0\n",
      "  Downloading annotated_types-0.7.0-py3-none-any.whl (13 kB)\n",
      "Requirement already satisfied: charset-normalizer<4,>=2 in /opt/app-root/lib/python3.9/site-packages (from requests>=2.0.0->sparsezoo) (3.3.2)\n",
      "Requirement already satisfied: certifi>=2017.4.17 in /opt/app-root/lib/python3.9/site-packages (from requests>=2.0.0->sparsezoo) (2024.7.4)\n",
      "Requirement already satisfied: urllib3<3,>=1.21.1 in /opt/app-root/lib/python3.9/site-packages (from requests>=2.0.0->sparsezoo) (1.26.19)\n",
      "Requirement already satisfied: idna<4,>=2.5 in /opt/app-root/lib/python3.9/site-packages (from requests>=2.0.0->sparsezoo) (3.8)\n",
      "Collecting humanfriendly>=9.1\n",
      "  Downloading humanfriendly-10.0-py2.py3-none-any.whl (86 kB)\n",
      "\u001b[2K     \u001b[90m━━━━━━━━━━━━━━━━━━━━━━━━━━━━━━━━━━━━━━━\u001b[0m \u001b[32m86.8/86.8 kB\u001b[0m \u001b[31m268.6 MB/s\u001b[0m eta \u001b[36m0:00:00\u001b[0m\n",
      "\u001b[?25hRequirement already satisfied: decorator in /opt/app-root/lib/python3.9/site-packages (from ratelim->geocoder>=1.38.0->sparsezoo) (5.1.1)\n",
      "Collecting mpmath<1.4,>=1.1.0\n",
      "  Downloading mpmath-1.3.0-py3-none-any.whl (536 kB)\n",
      "\u001b[2K     \u001b[90m━━━━━━━━━━━━━━━━━━━━━━━━━━━━━━━━━━━━━\u001b[0m \u001b[32m536.2/536.2 kB\u001b[0m \u001b[31m321.6 MB/s\u001b[0m eta \u001b[36m0:00:00\u001b[0m\n",
      "\u001b[?25hInstalling collected packages: py-machineid, mpmath, flatbuffers, sympy, ratelim, pydantic-core, onnx, humanfriendly, future, annotated-types, pydantic, geocoder, coloredlogs, onnxruntime, sparsezoo\n",
      "  Attempting uninstall: onnx\n",
      "    Found existing installation: onnx 1.16.2\n",
      "    Uninstalling onnx-1.16.2:\n",
      "      Successfully uninstalled onnx-1.16.2\n",
      "  Attempting uninstall: pydantic\n",
      "    Found existing installation: pydantic 1.10.18\n",
      "    Uninstalling pydantic-1.10.18:\n",
      "      Successfully uninstalled pydantic-1.10.18\n",
      "\u001b[31mERROR: pip's dependency resolver does not currently take into account all the packages that are installed. This behaviour is the source of the following dependency conflicts.\n",
      "codeflare-sdk 0.19.1 requires pydantic<2, but you have pydantic 2.9.2 which is incompatible.\u001b[0m\u001b[31m\n",
      "\u001b[0mSuccessfully installed annotated-types-0.7.0 coloredlogs-15.0.1 flatbuffers-24.3.25 future-1.0.0 geocoder-1.38.1 humanfriendly-10.0 mpmath-1.3.0 onnx-1.14.1 onnxruntime-1.19.2 py-machineid-0.6.0 pydantic-2.9.2 pydantic-core-2.23.4 ratelim-0.1.6 sparsezoo-1.8.1 sympy-1.13.3\n",
      "\n",
      "\u001b[1m[\u001b[0m\u001b[34;49mnotice\u001b[0m\u001b[1;39;49m]\u001b[0m\u001b[39;49m A new release of pip available: \u001b[0m\u001b[31;49m22.2.2\u001b[0m\u001b[39;49m -> \u001b[0m\u001b[32;49m24.3.1\u001b[0m\n",
      "\u001b[1m[\u001b[0m\u001b[34;49mnotice\u001b[0m\u001b[1;39;49m]\u001b[0m\u001b[39;49m To update, run: \u001b[0m\u001b[32;49mpip install --upgrade pip\u001b[0m\n"
     ]
    }
   ],
   "source": [
    "!pip install sparsezoo"
   ]
  },
  {
   "cell_type": "code",
   "execution_count": 2,
   "id": "1992a9c7-7596-4115-881a-2a678035c606",
   "metadata": {
    "tags": []
   },
   "outputs": [
    {
     "name": "stderr",
     "output_type": "stream",
     "text": [
      "Downloading Chunks for pytorch_model-00003-of-00003.bin: 100%|██████████| 9.16G/9.16G [01:01<00:00, 149MB/s] \n",
      "Combining Chunks: 100%|██████████| 9.16G/9.16G [01:49<00:00, 83.3MB/s]\n",
      "Downloading Chunks for config.json: 100%|██████████| 735/735 [00:00<00:00, 1.67kB/s]\n",
      "Combining Chunks: 100%|██████████| 735/735 [00:00<00:00, 32.2kB/s]\n",
      "Downloading Chunks for tokenizer_config.json: 100%|██████████| 1.53k/1.53k [00:00<00:00, 2.99kB/s]\n",
      "Combining Chunks: 100%|██████████| 1.53k/1.53k [00:00<00:00, 1.05MB/s]\n",
      "Downloading Chunks for pytorch_model-00001-of-00003.bin:   0%|          | 0.00/9.89G [00:00<?, ?B/s]IOStream.flush timed out\n",
      "Downloading Chunks for pytorch_model-00001-of-00003.bin: 100%|██████████| 9.89G/9.89G [01:38<00:00, 101MB/s] \n",
      "Combining Chunks: 100%|██████████| 9.89G/9.89G [02:05<00:00, 78.8MB/s]\n",
      "Downloading Chunks for recipe.yaml: 100%|██████████| 1.85k/1.85k [00:00<00:00, 4.68kB/s]\n",
      "Combining Chunks: 100%|██████████| 1.85k/1.85k [00:00<00:00, 113kB/s]\n",
      "Downloading Chunks for tokenizer.json: 100%|██████████| 1.80M/1.80M [00:00<00:00, 3.36MB/s]\n",
      "Combining Chunks: 100%|██████████| 1.80M/1.80M [00:00<00:00, 473MB/s]\n",
      "Downloading Chunks for truthfulqa_mc_0shot_bs8_fp32.json: 100%|██████████| 660/660 [00:01<00:00, 436B/s]\n",
      "Combining Chunks: 100%|██████████| 660/660 [00:00<00:00, 466kB/s]\n",
      "Downloading Chunks for tokenizer.model: 100%|██████████| 493k/493k [00:00<00:00, 976kB/s]\n",
      "Combining Chunks: 100%|██████████| 493k/493k [00:00<00:00, 370MB/s]\n",
      "Downloading Chunks for winogrande_5shot_bs8_fp32.json: 100%|██████████| 578/578 [00:00<00:00, 1.26kB/s]\n",
      "Combining Chunks: 100%|██████████| 578/578 [00:00<00:00, 428kB/s]\n",
      "Downloading Chunks for special_tokens_map.json: 100%|██████████| 437/437 [00:00<00:00, 1.11kB/s]\n",
      "Combining Chunks: 100%|██████████| 437/437 [00:00<00:00, 299kB/s]\n",
      "Downloading Chunks for mmlu_5shot_bs4_fp32.json: 100%|██████████| 14.3k/14.3k [00:00<00:00, 31.8kB/s]\n",
      "Combining Chunks: 100%|██████████| 14.3k/14.3k [00:00<00:00, 9.32MB/s]\n",
      "Downloading Chunks for arc_challenge_25shot_bs8_fp32.json: 100%|██████████| 671/671 [00:00<00:00, 1.87kB/s]\n",
      "Combining Chunks: 100%|██████████| 671/671 [00:00<00:00, 429kB/s]\n",
      "Downloading Chunks for generation_config.json: 100%|██████████| 119/119 [00:00<00:00, 261B/s]\n",
      "Combining Chunks: 100%|██████████| 119/119 [00:00<00:00, 75.1kB/s]\n",
      "Downloading Chunks for gsm8k_5shot_bs8_fp32.json: 100%|██████████| 569/569 [00:00<00:00, 1.44kB/s]\n",
      "Combining Chunks: 100%|██████████| 569/569 [00:00<00:00, 386kB/s]\n",
      "Downloading Chunks for pytorch_model-00002-of-00003.bin: 100%|██████████| 9.94G/9.94G [01:26<00:00, 115MB/s] \n",
      "Combining Chunks: 100%|██████████| 9.94G/9.94G [02:07<00:00, 77.7MB/s]\n",
      "Downloading Chunks for pytorch_model.bin.index.json: 100%|██████████| 532k/532k [00:01<00:00, 457kB/s]\n",
      "Combining Chunks: 100%|██████████| 532k/532k [00:00<00:00, 158MB/s]\n",
      "Downloading Chunks for hellaswag_10shot_bs8_fp32.json: 100%|██████████| 661/661 [00:00<00:00, 2.00kB/s]\n",
      "Combining Chunks: 100%|██████████| 661/661 [00:00<00:00, 541kB/s]\n",
      "Downloading Chunks for deployment.tar.gz: 100%|██████████| 5.04G/5.04G [00:46<00:00, 109MB/s]   \n",
      "Combining Chunks: 100%|██████████| 5.04G/5.04G [00:47<00:00, 105MB/s] \n",
      "Downloading Chunks for model.data: 100%|██████████| 8.69G/8.69G [00:58<00:00, 148MB/s] \n",
      "Combining Chunks: 100%|██████████| 8.69G/8.69G [01:42<00:00, 85.2MB/s]\n",
      "Downloading Chunks for model.md: 100%|██████████| 1.12k/1.12k [00:00<00:00, 3.51kB/s]\n",
      "Combining Chunks: 100%|██████████| 1.12k/1.12k [00:00<00:00, 66.1kB/s]\n",
      "Downloading Chunks for recipe.md: 100%|██████████| 4.08k/4.08k [00:00<00:00, 11.7kB/s]\n",
      "Combining Chunks: 100%|██████████| 4.08k/4.08k [00:00<00:00, 2.94MB/s]\n",
      "Downloading Chunks for model.onnx.tar.gz: 100%|██████████| 5.04G/5.04G [00:56<00:00, 89.7MB/s]  \n",
      "Combining Chunks: 100%|██████████| 5.04G/5.04G [00:37<00:00, 133MB/s] \n",
      "Downloading Chunks for benchmark.yaml: 100%|██████████| 72.6k/72.6k [00:00<00:00, 121kB/s]\n",
      "Combining Chunks: 100%|██████████| 72.6k/72.6k [00:00<00:00, 35.4MB/s]\n",
      "Downloading Chunks for metrics.yaml: 100%|██████████| 1.65k/1.65k [00:00<00:00, 4.09kB/s]\n",
      "Combining Chunks: 100%|██████████| 1.65k/1.65k [00:00<00:00, 1.16MB/s]\n"
     ]
    },
    {
     "name": "stdout",
     "output_type": "stream",
     "text": [
      "/opt/app-root/src/.cache/sparsezoo/neuralmagic/mistral-7b-ultrachat200k_mistral_pretrain-pruned50_quantized\n"
     ]
    }
   ],
   "source": [
    "from sparsezoo import Model\n",
    "\n",
    "stub = \"zoo:mistral-7b-ultrachat200k_mistral_pretrain-pruned50_quantized\"\n",
    "\n",
    "model = Model(stub)\n",
    "model.download()\n",
    "print(model.path)"
   ]
  },
  {
   "cell_type": "code",
   "execution_count": null,
   "id": "cd9b6427-e461-4606-8c92-af37251f5b54",
   "metadata": {},
   "outputs": [],
   "source": []
  }
 ],
 "metadata": {
  "kernelspec": {
   "display_name": "Python 3.9",
   "language": "python",
   "name": "python3"
  },
  "language_info": {
   "codemirror_mode": {
    "name": "ipython",
    "version": 3
   },
   "file_extension": ".py",
   "mimetype": "text/x-python",
   "name": "python",
   "nbconvert_exporter": "python",
   "pygments_lexer": "ipython3",
   "version": "3.9.16"
  }
 },
 "nbformat": 4,
 "nbformat_minor": 5
}
